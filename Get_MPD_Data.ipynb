{
 "cells": [
  {
   "cell_type": "code",
   "execution_count": 1,
   "metadata": {},
   "outputs": [],
   "source": [
    "import os\n",
    "import re\n",
    "import sys\n",
    "import json\n",
    "import time\n",
    "import spotipy\n",
    "import datetime\n",
    "import collections\n",
    "import pandas as pd\n",
    "\n",
    "from spotipy.oauth2 import SpotifyClientCredentials, SpotifyOAuth"
   ]
  },
  {
   "cell_type": "code",
   "execution_count": 2,
   "metadata": {},
   "outputs": [],
   "source": [
    "from datetime import datetime\n",
    "from tqdm import tqdm\n"
   ]
  },
  {
   "cell_type": "code",
   "execution_count": 3,
   "metadata": {},
   "outputs": [],
   "source": [
    "# Change the path to where your Spotify Million Playlist is located.\n",
    "# The expected file structure is to have a data folder /data .csv files will be placed there.\n",
    "\n",
    "path = 'data/spotify_million_playlist_dataset/data'\n",
    "\n",
    "def loop_slices(path, num_slices=20):\n",
    "    \"\"\"\n",
    "    Each slice is a .json file containing 1000 playlists i.e.: 1 slice is 1000 playlists 20 slices is: 20,000 playlists.\n",
    "    Parameters:\n",
    "        num_slices (int): Number of slices to return, max 1000.\n",
    "        path (str): Path to the Spotify Million Playlist.\n",
    "        \n",
    "    Output:\n",
    "        mpd_playlists (list): a list of dictionaries of all the playlists.\n",
    "    \"\"\"\n",
    "    cnt=0\n",
    "    mpd_playlists = []\n",
    "    filenames = os.listdir(path)\n",
    "    for filename in sorted(filenames):\n",
    "        print(filename)\n",
    "        cnt+=1\n",
    "        if filename.startswith(\"mpd.slice.\") and filename.endswith(\".json\"):\n",
    "            fullpath = os.sep.join((path, filename))\n",
    "            f = open(fullpath)\n",
    "            js = f.read()\n",
    "            f.close()\n",
    "            current_slice = json.loads(js)\n",
    "            \n",
    "            # Create a list of all playlists\n",
    "            for playlist in current_slice['playlists']:\n",
    "                mpd_playlists.append(playlist)\n",
    "\n",
    "\n",
    "            if cnt == num_slices:\n",
    "                break\n",
    "    return mpd_playlists"
   ]
  },
  {
   "cell_type": "code",
   "execution_count": 4,
   "metadata": {
    "scrolled": false
   },
   "outputs": [],
   "source": [
    "def create_csv(playlists, extended=False):\n",
    "    \"\"\"\n",
    "    This function will write a .csv file for all the input playlists, this .csv will have a single cell with all the tracks\n",
    "    in the playlist. \n",
    "    An extended parameter is available to extend the tracks in a list to be a single cell per song, this will return an \n",
    "    additional .csv file\n",
    "    Parameters:\n",
    "        playlists (list): a list of dictionaries such as that from the loop_slices() function.\n",
    "        extended (boolean): boolean to enable the extended .csv file generation\n",
    "        \n",
    "    Output:\n",
    "        MPD.csv: .csv file with the playlists\n",
    "        MPD.csv: .csv file with extended song columns\n",
    "    \"\"\"\n",
    "    df = pd.DataFrame(playlists)\n",
    "    df.to_csv('data/MPD.csv', index=False)\n",
    "    \n",
    "    if extended:\n",
    "        df_list = []\n",
    "        for playlist in playlists:\n",
    "            df_list.append(pd.DataFrame(playlist))\n",
    "            \n",
    "        df_extended = pd.concat(df_list, axis=0)\n",
    "         \n",
    "        cols_to_keep = ['name', 'collaborative', 'pid', 'modified_at', 'num_tracks', 'num_albums', \n",
    "                'num_followers','num_edits', 'duration_ms', 'num_artists']\n",
    "        df_extended = df_extended.reset_index().pivot(values='tracks',index=cols_to_keep, columns='index')\n",
    "        df_extended.reset_index(inplace=True)\n",
    "        df_extended = df_extended.rename_axis(None, axis=1)    \n",
    "        df_extended.sort_values('pid', inplace=True)\n",
    "        df_extended.to_csv('data/MPD_Extended.csv', index=False)        "
   ]
  },
  {
   "cell_type": "code",
   "execution_count": 5,
   "metadata": {},
   "outputs": [
    {
     "name": "stdout",
     "output_type": "stream",
     "text": [
      "mpd.slice.0-999.json\n",
      "mpd.slice.1000-1999.json\n",
      "mpd.slice.10000-10999.json\n",
      "mpd.slice.100000-100999.json\n",
      "mpd.slice.101000-101999.json\n",
      "mpd.slice.102000-102999.json\n",
      "mpd.slice.103000-103999.json\n",
      "mpd.slice.104000-104999.json\n",
      "mpd.slice.105000-105999.json\n",
      "mpd.slice.106000-106999.json\n",
      "mpd.slice.107000-107999.json\n",
      "mpd.slice.108000-108999.json\n",
      "mpd.slice.109000-109999.json\n",
      "mpd.slice.11000-11999.json\n",
      "mpd.slice.110000-110999.json\n",
      "mpd.slice.111000-111999.json\n",
      "mpd.slice.112000-112999.json\n",
      "mpd.slice.113000-113999.json\n",
      "mpd.slice.114000-114999.json\n",
      "mpd.slice.115000-115999.json\n",
      "CPU times: user 1min 7s, sys: 4.86 s, total: 1min 12s\n",
      "Wall time: 1min 18s\n"
     ]
    }
   ],
   "source": [
    "%%time\n",
    "#####################################################################################################################\n",
    "# STOP, STOP, STOP, STOP, STOP                                                                                      #\n",
    "# num_slices=1000 (all playlists) will take considerable time (>30min) and it will eat all your disk storage 30Gb+  #\n",
    "# recommended to work with default num_slices=20, this will output 400Mb for each file                              #\n",
    "#####################################################################################################################\n",
    "\n",
    "playlists = loop_slices(path, num_slices=20)\n",
    "create_csv(playlists, extended=True)"
   ]
  },
  {
   "cell_type": "code",
   "execution_count": null,
   "metadata": {
    "scrolled": false
   },
   "outputs": [],
   "source": [
    "# Read MPD\n",
    "df = pd.read_csv('data/MPD.csv')\n",
    "df"
   ]
  },
  {
   "cell_type": "code",
   "execution_count": null,
   "metadata": {},
   "outputs": [],
   "source": [
    "# Read MPD\n",
    "df = pd.read_csv('data/MPD_Extended.csv')\n",
    "df"
   ]
  },
  {
   "cell_type": "markdown",
   "metadata": {},
   "source": [
    "# Get song features from playlists extracted"
   ]
  },
  {
   "cell_type": "code",
   "execution_count": 6,
   "metadata": {
    "scrolled": false
   },
   "outputs": [],
   "source": [
    "# Spotify credentials\n",
    "os.environ[\"SPOTIPY_CLIENT_ID\"] = \"e93bb9b7b8aa4ba8a817537a0f7696f8\"\n",
    "os.environ[\"SPOTIPY_CLIENT_SECRET\"] = \"bd54ecc86e3b4bc08b33f3bed6e89dee\"\n",
    "os.environ['SPOTIPY_REDIRECT_URI'] = \"http://localhost:8080\"   # Needed for user authorization\n",
    "sp = spotipy.Spotify(client_credentials_manager=SpotifyClientCredentials())"
   ]
  },
  {
   "cell_type": "code",
   "execution_count": 30,
   "metadata": {},
   "outputs": [
    {
     "data": {
      "text/html": [
       "<div>\n",
       "<style scoped>\n",
       "    .dataframe tbody tr th:only-of-type {\n",
       "        vertical-align: middle;\n",
       "    }\n",
       "\n",
       "    .dataframe tbody tr th {\n",
       "        vertical-align: top;\n",
       "    }\n",
       "\n",
       "    .dataframe thead th {\n",
       "        text-align: right;\n",
       "    }\n",
       "</style>\n",
       "<table border=\"1\" class=\"dataframe\">\n",
       "  <thead>\n",
       "    <tr style=\"text-align: right;\">\n",
       "      <th></th>\n",
       "      <th>name</th>\n",
       "      <th>pid</th>\n",
       "      <th>danceability</th>\n",
       "      <th>energy</th>\n",
       "      <th>key</th>\n",
       "      <th>loudness</th>\n",
       "      <th>mode</th>\n",
       "      <th>speechiness</th>\n",
       "      <th>acousticness</th>\n",
       "      <th>instrumentalness</th>\n",
       "      <th>liveness</th>\n",
       "      <th>valence</th>\n",
       "      <th>tempo</th>\n",
       "      <th>duration_ms</th>\n",
       "      <th>time_signature</th>\n",
       "    </tr>\n",
       "  </thead>\n",
       "  <tbody>\n",
       "    <tr>\n",
       "      <th>0</th>\n",
       "      <td>Throwbacks</td>\n",
       "      <td>0</td>\n",
       "      <td>0.664077</td>\n",
       "      <td>0.781077</td>\n",
       "      <td>5.038462</td>\n",
       "      <td>-4.891212</td>\n",
       "      <td>0.692308</td>\n",
       "      <td>0.103698</td>\n",
       "      <td>0.083674</td>\n",
       "      <td>0.000674</td>\n",
       "      <td>0.187087</td>\n",
       "      <td>0.642750</td>\n",
       "      <td>121.157500</td>\n",
       "      <td>221777.461538</td>\n",
       "      <td>4.000000</td>\n",
       "    </tr>\n",
       "    <tr>\n",
       "      <th>1</th>\n",
       "      <td>Awesome Playlist</td>\n",
       "      <td>1</td>\n",
       "      <td>0.492382</td>\n",
       "      <td>0.695923</td>\n",
       "      <td>4.461538</td>\n",
       "      <td>-8.107974</td>\n",
       "      <td>0.538462</td>\n",
       "      <td>0.091010</td>\n",
       "      <td>0.162227</td>\n",
       "      <td>0.223708</td>\n",
       "      <td>0.179344</td>\n",
       "      <td>0.476667</td>\n",
       "      <td>124.987128</td>\n",
       "      <td>298837.641026</td>\n",
       "      <td>3.769231</td>\n",
       "    </tr>\n",
       "    <tr>\n",
       "      <th>2</th>\n",
       "      <td>korean</td>\n",
       "      <td>2</td>\n",
       "      <td>0.671062</td>\n",
       "      <td>0.692953</td>\n",
       "      <td>5.000000</td>\n",
       "      <td>-4.875594</td>\n",
       "      <td>0.515625</td>\n",
       "      <td>0.096425</td>\n",
       "      <td>0.269100</td>\n",
       "      <td>0.000638</td>\n",
       "      <td>0.168894</td>\n",
       "      <td>0.565078</td>\n",
       "      <td>114.595984</td>\n",
       "      <td>219373.953125</td>\n",
       "      <td>4.000000</td>\n",
       "    </tr>\n",
       "    <tr>\n",
       "      <th>3</th>\n",
       "      <td>mat</td>\n",
       "      <td>3</td>\n",
       "      <td>0.514349</td>\n",
       "      <td>0.620901</td>\n",
       "      <td>5.103175</td>\n",
       "      <td>-9.618754</td>\n",
       "      <td>0.714286</td>\n",
       "      <td>0.067004</td>\n",
       "      <td>0.273514</td>\n",
       "      <td>0.203148</td>\n",
       "      <td>0.188278</td>\n",
       "      <td>0.451258</td>\n",
       "      <td>125.523048</td>\n",
       "      <td>229575.055556</td>\n",
       "      <td>3.952381</td>\n",
       "    </tr>\n",
       "    <tr>\n",
       "      <th>4</th>\n",
       "      <td>90s</td>\n",
       "      <td>4</td>\n",
       "      <td>0.576235</td>\n",
       "      <td>0.650418</td>\n",
       "      <td>3.352941</td>\n",
       "      <td>-7.634529</td>\n",
       "      <td>0.823529</td>\n",
       "      <td>0.041218</td>\n",
       "      <td>0.177189</td>\n",
       "      <td>0.081759</td>\n",
       "      <td>0.166524</td>\n",
       "      <td>0.490294</td>\n",
       "      <td>127.725412</td>\n",
       "      <td>255014.352941</td>\n",
       "      <td>3.941176</td>\n",
       "    </tr>\n",
       "    <tr>\n",
       "      <th>...</th>\n",
       "      <td>...</td>\n",
       "      <td>...</td>\n",
       "      <td>...</td>\n",
       "      <td>...</td>\n",
       "      <td>...</td>\n",
       "      <td>...</td>\n",
       "      <td>...</td>\n",
       "      <td>...</td>\n",
       "      <td>...</td>\n",
       "      <td>...</td>\n",
       "      <td>...</td>\n",
       "      <td>...</td>\n",
       "      <td>...</td>\n",
       "      <td>...</td>\n",
       "      <td>...</td>\n",
       "    </tr>\n",
       "    <tr>\n",
       "      <th>9157</th>\n",
       "      <td>Gym</td>\n",
       "      <td>106157</td>\n",
       "      <td>0.534879</td>\n",
       "      <td>0.727061</td>\n",
       "      <td>5.333333</td>\n",
       "      <td>-5.763152</td>\n",
       "      <td>0.757576</td>\n",
       "      <td>0.052520</td>\n",
       "      <td>0.133434</td>\n",
       "      <td>0.008525</td>\n",
       "      <td>0.173132</td>\n",
       "      <td>0.505697</td>\n",
       "      <td>127.168500</td>\n",
       "      <td>232338.651515</td>\n",
       "      <td>3.969697</td>\n",
       "    </tr>\n",
       "    <tr>\n",
       "      <th>9158</th>\n",
       "      <td>chill</td>\n",
       "      <td>106158</td>\n",
       "      <td>0.710600</td>\n",
       "      <td>0.611800</td>\n",
       "      <td>3.800000</td>\n",
       "      <td>-6.888400</td>\n",
       "      <td>0.500000</td>\n",
       "      <td>0.129800</td>\n",
       "      <td>0.195260</td>\n",
       "      <td>0.087900</td>\n",
       "      <td>0.193550</td>\n",
       "      <td>0.379500</td>\n",
       "      <td>119.845400</td>\n",
       "      <td>201980.100000</td>\n",
       "      <td>4.000000</td>\n",
       "    </tr>\n",
       "    <tr>\n",
       "      <th>9159</th>\n",
       "      <td>80s Music</td>\n",
       "      <td>106159</td>\n",
       "      <td>0.653651</td>\n",
       "      <td>0.740007</td>\n",
       "      <td>5.157895</td>\n",
       "      <td>-8.693954</td>\n",
       "      <td>0.743421</td>\n",
       "      <td>0.047501</td>\n",
       "      <td>0.111790</td>\n",
       "      <td>0.049378</td>\n",
       "      <td>0.169228</td>\n",
       "      <td>0.716559</td>\n",
       "      <td>120.838592</td>\n",
       "      <td>255292.046053</td>\n",
       "      <td>4.000000</td>\n",
       "    </tr>\n",
       "    <tr>\n",
       "      <th>9160</th>\n",
       "      <td>Get hyped</td>\n",
       "      <td>106160</td>\n",
       "      <td>0.712686</td>\n",
       "      <td>0.680088</td>\n",
       "      <td>5.360825</td>\n",
       "      <td>-6.199005</td>\n",
       "      <td>0.577320</td>\n",
       "      <td>0.182556</td>\n",
       "      <td>0.097947</td>\n",
       "      <td>0.014718</td>\n",
       "      <td>0.234056</td>\n",
       "      <td>0.439419</td>\n",
       "      <td>123.119649</td>\n",
       "      <td>229499.386598</td>\n",
       "      <td>4.000000</td>\n",
       "    </tr>\n",
       "    <tr>\n",
       "      <th>9161</th>\n",
       "      <td>reggae</td>\n",
       "      <td>106161</td>\n",
       "      <td>0.782972</td>\n",
       "      <td>0.565612</td>\n",
       "      <td>5.814607</td>\n",
       "      <td>-9.217169</td>\n",
       "      <td>0.702247</td>\n",
       "      <td>0.175401</td>\n",
       "      <td>0.133745</td>\n",
       "      <td>0.064751</td>\n",
       "      <td>0.147311</td>\n",
       "      <td>0.795438</td>\n",
       "      <td>117.694090</td>\n",
       "      <td>237260.640449</td>\n",
       "      <td>4.016854</td>\n",
       "    </tr>\n",
       "  </tbody>\n",
       "</table>\n",
       "<p>9162 rows × 15 columns</p>\n",
       "</div>"
      ],
      "text/plain": [
       "                  name     pid  danceability    energy       key  loudness  \\\n",
       "0           Throwbacks       0      0.664077  0.781077  5.038462 -4.891212   \n",
       "1     Awesome Playlist       1      0.492382  0.695923  4.461538 -8.107974   \n",
       "2              korean        2      0.671062  0.692953  5.000000 -4.875594   \n",
       "3                  mat       3      0.514349  0.620901  5.103175 -9.618754   \n",
       "4                  90s       4      0.576235  0.650418  3.352941 -7.634529   \n",
       "...                ...     ...           ...       ...       ...       ...   \n",
       "9157               Gym  106157      0.534879  0.727061  5.333333 -5.763152   \n",
       "9158             chill  106158      0.710600  0.611800  3.800000 -6.888400   \n",
       "9159         80s Music  106159      0.653651  0.740007  5.157895 -8.693954   \n",
       "9160         Get hyped  106160      0.712686  0.680088  5.360825 -6.199005   \n",
       "9161            reggae  106161      0.782972  0.565612  5.814607 -9.217169   \n",
       "\n",
       "          mode  speechiness  acousticness  instrumentalness  liveness  \\\n",
       "0     0.692308     0.103698      0.083674          0.000674  0.187087   \n",
       "1     0.538462     0.091010      0.162227          0.223708  0.179344   \n",
       "2     0.515625     0.096425      0.269100          0.000638  0.168894   \n",
       "3     0.714286     0.067004      0.273514          0.203148  0.188278   \n",
       "4     0.823529     0.041218      0.177189          0.081759  0.166524   \n",
       "...        ...          ...           ...               ...       ...   \n",
       "9157  0.757576     0.052520      0.133434          0.008525  0.173132   \n",
       "9158  0.500000     0.129800      0.195260          0.087900  0.193550   \n",
       "9159  0.743421     0.047501      0.111790          0.049378  0.169228   \n",
       "9160  0.577320     0.182556      0.097947          0.014718  0.234056   \n",
       "9161  0.702247     0.175401      0.133745          0.064751  0.147311   \n",
       "\n",
       "       valence       tempo    duration_ms  time_signature  \n",
       "0     0.642750  121.157500  221777.461538        4.000000  \n",
       "1     0.476667  124.987128  298837.641026        3.769231  \n",
       "2     0.565078  114.595984  219373.953125        4.000000  \n",
       "3     0.451258  125.523048  229575.055556        3.952381  \n",
       "4     0.490294  127.725412  255014.352941        3.941176  \n",
       "...        ...         ...            ...             ...  \n",
       "9157  0.505697  127.168500  232338.651515        3.969697  \n",
       "9158  0.379500  119.845400  201980.100000        4.000000  \n",
       "9159  0.716559  120.838592  255292.046053        4.000000  \n",
       "9160  0.439419  123.119649  229499.386598        4.000000  \n",
       "9161  0.795438  117.694090  237260.640449        4.016854  \n",
       "\n",
       "[9162 rows x 15 columns]"
      ]
     },
     "execution_count": 30,
     "metadata": {},
     "output_type": "execute_result"
    }
   ],
   "source": [
    "df_list = []\n",
    "feats_df = pd.read_csv('Playlist_Feats.csv')\n",
    "idx = len(feats_df)\n",
    "df_list.append(feats_df)\n",
    "feats_df"
   ]
  },
  {
   "cell_type": "code",
   "execution_count": 34,
   "metadata": {
    "scrolled": false
   },
   "outputs": [
    {
     "name": "stdout",
     "output_type": "stream",
     "text": [
      "Start Time = 09:37:05\n"
     ]
    },
    {
     "name": "stderr",
     "output_type": "stream",
     "text": [
      "  2%|▏         | 164/10718 [20:29<25:29:34,  8.70s/it]"
     ]
    },
    {
     "name": "stdout",
     "output_type": "stream",
     "text": [
      "HTTPSConnectionPool(host='api.spotify.com', port=443): Read timed out. (read timeout=5)\n"
     ]
    },
    {
     "name": "stderr",
     "output_type": "stream",
     "text": [
      "  2%|▏         | 190/10718 [24:27<21:55:38,  7.50s/it]"
     ]
    },
    {
     "name": "stdout",
     "output_type": "stream",
     "text": [
      "('Connection aborted.', ConnectionResetError(54, 'Connection reset by peer'))\n"
     ]
    },
    {
     "name": "stderr",
     "output_type": "stream",
     "text": [
      "  7%|▋         | 743/10718 [1:23:28<14:02:16,  5.07s/it]"
     ]
    },
    {
     "name": "stdout",
     "output_type": "stream",
     "text": [
      "('Connection aborted.', ConnectionResetError(54, 'Connection reset by peer'))\n"
     ]
    },
    {
     "name": "stderr",
     "output_type": "stream",
     "text": [
      " 12%|█▏        | 1301/10718 [2:22:28<18:48:22,  7.19s/it]"
     ]
    },
    {
     "name": "stdout",
     "output_type": "stream",
     "text": [
      "('Connection aborted.', ConnectionResetError(54, 'Connection reset by peer'))\n"
     ]
    },
    {
     "name": "stderr",
     "output_type": "stream",
     "text": [
      " 15%|█▍        | 1563/10718 [2:52:58<13:58:05,  5.49s/it]"
     ]
    },
    {
     "name": "stdout",
     "output_type": "stream",
     "text": [
      "HTTPSConnectionPool(host='api.spotify.com', port=443): Read timed out. (read timeout=5)\n",
      "HTTPSConnectionPool(host='api.spotify.com', port=443): Read timed out. (read timeout=5)\n"
     ]
    },
    {
     "name": "stderr",
     "output_type": "stream",
     "text": [
      " 16%|█▌        | 1696/10718 [3:06:46<17:31:21,  6.99s/it]"
     ]
    },
    {
     "name": "stdout",
     "output_type": "stream",
     "text": [
      "HTTPSConnectionPool(host='api.spotify.com', port=443): Read timed out. (read timeout=5)\n"
     ]
    },
    {
     "name": "stderr",
     "output_type": "stream",
     "text": [
      " 17%|█▋        | 1799/10718 [3:18:49<17:35:07,  7.10s/it]"
     ]
    },
    {
     "name": "stdout",
     "output_type": "stream",
     "text": [
      "HTTPSConnectionPool(host='api.spotify.com', port=443): Read timed out. (read timeout=5)\n"
     ]
    },
    {
     "name": "stderr",
     "output_type": "stream",
     "text": [
      " 17%|█▋        | 1827/10718 [3:21:29<9:49:51,  3.98s/it] "
     ]
    },
    {
     "name": "stdout",
     "output_type": "stream",
     "text": [
      "('Connection aborted.', ConnectionResetError(54, 'Connection reset by peer'))\n"
     ]
    },
    {
     "name": "stderr",
     "output_type": "stream",
     "text": [
      " 21%|██        | 2255/10718 [4:10:07<8:20:47,  3.55s/it] "
     ]
    },
    {
     "name": "stdout",
     "output_type": "stream",
     "text": [
      "HTTPSConnectionPool(host='api.spotify.com', port=443): Read timed out. (read timeout=5)\n"
     ]
    },
    {
     "name": "stderr",
     "output_type": "stream",
     "text": [
      " 22%|██▏       | 2338/10718 [4:20:25<17:03:58,  7.33s/it]"
     ]
    },
    {
     "name": "stdout",
     "output_type": "stream",
     "text": [
      "('Connection aborted.', ConnectionResetError(54, 'Connection reset by peer'))\n"
     ]
    },
    {
     "name": "stderr",
     "output_type": "stream",
     "text": [
      " 22%|██▏       | 2371/10718 [4:23:06<8:22:14,  3.61s/it] "
     ]
    },
    {
     "name": "stdout",
     "output_type": "stream",
     "text": [
      "HTTPSConnectionPool(host='api.spotify.com', port=443): Read timed out. (read timeout=5)\n"
     ]
    },
    {
     "name": "stderr",
     "output_type": "stream",
     "text": [
      " 23%|██▎       | 2442/10718 [4:30:58<27:37:45, 12.02s/it]"
     ]
    },
    {
     "name": "stdout",
     "output_type": "stream",
     "text": [
      "HTTPSConnectionPool(host='api.spotify.com', port=443): Read timed out. (read timeout=5)\n"
     ]
    },
    {
     "name": "stderr",
     "output_type": "stream",
     "text": [
      " 27%|██▋       | 2857/10718 [5:19:36<12:27:00,  5.70s/it]"
     ]
    },
    {
     "name": "stdout",
     "output_type": "stream",
     "text": [
      "('Connection aborted.', ConnectionResetError(54, 'Connection reset by peer'))\n"
     ]
    },
    {
     "name": "stderr",
     "output_type": "stream",
     "text": [
      " 29%|██▊       | 3056/10718 [5:41:38<22:57:10, 10.78s/it]"
     ]
    },
    {
     "name": "stdout",
     "output_type": "stream",
     "text": [
      "HTTPSConnectionPool(host='api.spotify.com', port=443): Read timed out. (read timeout=5)\n"
     ]
    },
    {
     "name": "stderr",
     "output_type": "stream",
     "text": [
      " 31%|███       | 3271/10718 [6:05:25<15:53:01,  7.68s/it]"
     ]
    },
    {
     "name": "stdout",
     "output_type": "stream",
     "text": [
      "HTTPSConnectionPool(host='api.spotify.com', port=443): Read timed out. (read timeout=5)\n"
     ]
    },
    {
     "name": "stderr",
     "output_type": "stream",
     "text": [
      " 31%|███▏      | 3374/10718 [6:18:26<15:33:41,  7.63s/it]"
     ]
    },
    {
     "name": "stdout",
     "output_type": "stream",
     "text": [
      "('Connection aborted.', ConnectionResetError(54, 'Connection reset by peer'))\n"
     ]
    },
    {
     "name": "stderr",
     "output_type": "stream",
     "text": [
      " 33%|███▎      | 3562/10718 [6:39:50<21:33:05, 10.84s/it]"
     ]
    },
    {
     "name": "stdout",
     "output_type": "stream",
     "text": [
      "Empty uri: spotify:track:6RQ97mq9F7QFRecMxmmdxS, in playlist: Current\n"
     ]
    },
    {
     "name": "stderr",
     "output_type": "stream",
     "text": [
      " 34%|███▍      | 3625/10718 [6:47:20<11:46:50,  5.98s/it]"
     ]
    },
    {
     "name": "stdout",
     "output_type": "stream",
     "text": [
      "HTTPSConnectionPool(host='api.spotify.com', port=443): Read timed out. (read timeout=5)\n"
     ]
    },
    {
     "name": "stderr",
     "output_type": "stream",
     "text": [
      " 34%|███▍      | 3629/10718 [6:47:47<12:24:00,  6.30s/it]"
     ]
    },
    {
     "name": "stdout",
     "output_type": "stream",
     "text": [
      "HTTPSConnectionPool(host='api.spotify.com', port=443): Read timed out. (read timeout=5)\n"
     ]
    },
    {
     "name": "stderr",
     "output_type": "stream",
     "text": [
      " 35%|███▌      | 3769/10718 [7:04:05<11:07:23,  5.76s/it]"
     ]
    },
    {
     "name": "stdout",
     "output_type": "stream",
     "text": [
      "HTTPSConnectionPool(host='api.spotify.com', port=443): Read timed out. (read timeout=5)\n"
     ]
    },
    {
     "name": "stderr",
     "output_type": "stream",
     "text": [
      " 36%|███▋      | 3903/10718 [7:16:56<14:32:42,  7.68s/it]"
     ]
    },
    {
     "name": "stdout",
     "output_type": "stream",
     "text": [
      "HTTPSConnectionPool(host='api.spotify.com', port=443): Read timed out. (read timeout=5)\n"
     ]
    },
    {
     "name": "stderr",
     "output_type": "stream",
     "text": [
      " 36%|███▋      | 3912/10718 [7:17:26<8:23:50,  4.44s/it] "
     ]
    },
    {
     "name": "stdout",
     "output_type": "stream",
     "text": [
      "('Connection aborted.', ConnectionResetError(54, 'Connection reset by peer'))\n"
     ]
    },
    {
     "name": "stderr",
     "output_type": "stream",
     "text": [
      " 39%|███▉      | 4176/10718 [7:47:28<21:18:46, 11.73s/it]"
     ]
    },
    {
     "name": "stdout",
     "output_type": "stream",
     "text": [
      "HTTPSConnectionPool(host='api.spotify.com', port=443): Read timed out. (read timeout=5)\n"
     ]
    },
    {
     "name": "stderr",
     "output_type": "stream",
     "text": [
      " 39%|███▉      | 4224/10718 [7:52:25<9:12:20,  5.10s/it] "
     ]
    },
    {
     "name": "stdout",
     "output_type": "stream",
     "text": [
      "HTTPSConnectionPool(host='api.spotify.com', port=443): Read timed out. (read timeout=5)\n"
     ]
    },
    {
     "name": "stderr",
     "output_type": "stream",
     "text": [
      " 41%|████▏     | 4445/10718 [8:16:36<15:59:40,  9.18s/it]"
     ]
    },
    {
     "name": "stdout",
     "output_type": "stream",
     "text": [
      "('Connection aborted.', ConnectionResetError(54, 'Connection reset by peer'))\n"
     ]
    },
    {
     "name": "stderr",
     "output_type": "stream",
     "text": [
      " 47%|████▋     | 4986/10718 [9:15:38<7:39:10,  4.81s/it] "
     ]
    },
    {
     "name": "stdout",
     "output_type": "stream",
     "text": [
      "('Connection aborted.', ConnectionResetError(54, 'Connection reset by peer'))\n"
     ]
    },
    {
     "name": "stderr",
     "output_type": "stream",
     "text": [
      " 52%|█████▏    | 5528/10718 [10:14:30<9:14:50,  6.41s/it] "
     ]
    },
    {
     "name": "stdout",
     "output_type": "stream",
     "text": [
      "('Connection aborted.', ConnectionResetError(54, 'Connection reset by peer'))\n"
     ]
    },
    {
     "name": "stderr",
     "output_type": "stream",
     "text": [
      " 56%|█████▋    | 6054/10718 [11:13:41<6:04:19,  4.69s/it] "
     ]
    },
    {
     "name": "stdout",
     "output_type": "stream",
     "text": [
      "('Connection aborted.', ConnectionResetError(54, 'Connection reset by peer'))\n"
     ]
    },
    {
     "name": "stderr",
     "output_type": "stream",
     "text": [
      " 58%|█████▊    | 6266/10718 [11:34:58<5:30:01,  4.45s/it] "
     ]
    },
    {
     "name": "stdout",
     "output_type": "stream",
     "text": [
      "HTTPSConnectionPool(host='api.spotify.com', port=443): Read timed out. (read timeout=5)\n"
     ]
    },
    {
     "name": "stderr",
     "output_type": "stream",
     "text": [
      " 62%|██████▏   | 6606/10718 [12:12:45<8:50:13,  7.74s/it] "
     ]
    },
    {
     "name": "stdout",
     "output_type": "stream",
     "text": [
      "('Connection aborted.', ConnectionResetError(54, 'Connection reset by peer'))\n"
     ]
    },
    {
     "name": "stderr",
     "output_type": "stream",
     "text": [
      " 67%|██████▋   | 7137/10718 [13:11:45<11:03:36, 11.12s/it]"
     ]
    },
    {
     "name": "stdout",
     "output_type": "stream",
     "text": [
      "('Connection aborted.', ConnectionResetError(54, 'Connection reset by peer'))\n"
     ]
    },
    {
     "name": "stderr",
     "output_type": "stream",
     "text": [
      " 72%|███████▏  | 7680/10718 [14:10:41<7:19:30,  8.68s/it] "
     ]
    },
    {
     "name": "stdout",
     "output_type": "stream",
     "text": [
      "('Connection aborted.', ConnectionResetError(54, 'Connection reset by peer'))\n"
     ]
    },
    {
     "name": "stderr",
     "output_type": "stream",
     "text": [
      " 77%|███████▋  | 8208/10718 [15:09:47<5:03:10,  7.25s/it] "
     ]
    },
    {
     "name": "stdout",
     "output_type": "stream",
     "text": [
      "('Connection aborted.', ConnectionResetError(54, 'Connection reset by peer'))\n"
     ]
    },
    {
     "name": "stderr",
     "output_type": "stream",
     "text": [
      " 78%|███████▊  | 8318/10718 [15:22:00<2:47:02,  4.18s/it]"
     ]
    },
    {
     "name": "stdout",
     "output_type": "stream",
     "text": [
      "HTTPSConnectionPool(host='api.spotify.com', port=443): Read timed out. (read timeout=5)\n"
     ]
    },
    {
     "name": "stderr",
     "output_type": "stream",
     "text": [
      " 82%|████████▏ | 8736/10718 [16:08:47<3:02:45,  5.53s/it]"
     ]
    },
    {
     "name": "stdout",
     "output_type": "stream",
     "text": [
      "('Connection aborted.', ConnectionResetError(54, 'Connection reset by peer'))\n"
     ]
    },
    {
     "name": "stderr",
     "output_type": "stream",
     "text": [
      " 87%|████████▋ | 9272/10718 [17:07:49<4:00:03,  9.96s/it]"
     ]
    },
    {
     "name": "stdout",
     "output_type": "stream",
     "text": [
      "('Connection aborted.', ConnectionResetError(54, 'Connection reset by peer'))\n"
     ]
    },
    {
     "name": "stderr",
     "output_type": "stream",
     "text": [
      " 90%|█████████ | 9649/10718 [17:51:38<3:14:32, 10.92s/it]"
     ]
    },
    {
     "name": "stdout",
     "output_type": "stream",
     "text": [
      "HTTPSConnectionPool(host='api.spotify.com', port=443): Read timed out. (read timeout=5)\n"
     ]
    },
    {
     "name": "stderr",
     "output_type": "stream",
     "text": [
      " 91%|█████████ | 9718/10718 [17:59:17<2:20:38,  8.44s/it]"
     ]
    },
    {
     "name": "stdout",
     "output_type": "stream",
     "text": [
      "HTTPSConnectionPool(host='api.spotify.com', port=443): Read timed out. (read timeout=5)\n"
     ]
    },
    {
     "name": "stderr",
     "output_type": "stream",
     "text": [
      " 91%|█████████▏| 9781/10718 [18:06:38<1:21:45,  5.23s/it]"
     ]
    },
    {
     "name": "stdout",
     "output_type": "stream",
     "text": [
      "('Connection aborted.', ConnectionResetError(54, 'Connection reset by peer'))\n"
     ]
    },
    {
     "name": "stderr",
     "output_type": "stream",
     "text": [
      " 96%|█████████▌| 10313/10718 [19:05:51<38:31,  5.71s/it]  "
     ]
    },
    {
     "name": "stdout",
     "output_type": "stream",
     "text": [
      "('Connection aborted.', ConnectionResetError(54, 'Connection reset by peer'))\n"
     ]
    },
    {
     "name": "stderr",
     "output_type": "stream",
     "text": [
      "100%|██████████| 10718/10718 [19:50:40<00:00,  6.67s/it]  "
     ]
    },
    {
     "name": "stdout",
     "output_type": "stream",
     "text": [
      "CPU times: user 57min 31s, sys: 8min 55s, total: 1h 6min 26s\n",
      "Wall time: 19h 50min 40s\n"
     ]
    },
    {
     "name": "stderr",
     "output_type": "stream",
     "text": [
      "\n"
     ]
    }
   ],
   "source": [
    "%%time\n",
    "\n",
    "now = datetime.now()\n",
    "current_time = now.strftime(\"%H:%M:%S\")\n",
    "print(\"Start Time =\", current_time)\n",
    "\n",
    "cols_to_keep = ['danceability', 'energy', 'key', 'loudness', 'mode', 'speechiness', 'acousticness', \n",
    "                'instrumentalness', 'liveness', 'valence', 'tempo', 'duration_ms', 'time_signature']\n",
    "dfs = []\n",
    "cnt=0\n",
    "\n",
    "for playlist in tqdm(playlists[idx:]):\n",
    "    audio_feats = []\n",
    "    for track in playlist['tracks']:\n",
    "        uri = track['track_uri'].split(\"k:\")[1]\n",
    "        \n",
    "#         tries = 10\n",
    "#         for i in range(tries):\n",
    "        try:\n",
    "            curr_song_audio_feat = sp.audio_features(uri)[0]\n",
    "            if curr_song_audio_feat == None:\n",
    "                print('Empty uri: {}, in playlist: {}'.format(track['track_uri'], playlist['name']))\n",
    "            else:\n",
    "                audio_feats.append(curr_song_audio_feat)\n",
    "        except Exception as e: print(e)\n",
    "#                 if i == tries:\n",
    "#                     print('Playlist: {}'.format(playlist['name']))\n",
    "#                     print('uri: {}'.format(track['track_uri']))\n",
    "#                     print('Something went wrong, retrying {}'.format(i))\n",
    "#                     continue\n",
    "#                 else:\n",
    "#                     raise\n",
    "#             break\n",
    "\n",
    "        cnt+=1\n",
    "#         if cnt%100==0:\n",
    "#             time.sleep(1)\n",
    "    name = playlist['name']\n",
    "    pid = playlist['pid']\n",
    "    s1 = pd.Series([name, pid], index=['name', 'pid'])\n",
    "    s2 = pd.DataFrame(audio_feats)[cols_to_keep].mean()\n",
    "\n",
    "    dfs.append(pd.DataFrame(s1.append(s2)).T)"
   ]
  },
  {
   "cell_type": "code",
   "execution_count": 35,
   "metadata": {},
   "outputs": [
    {
     "data": {
      "text/html": [
       "<div>\n",
       "<style scoped>\n",
       "    .dataframe tbody tr th:only-of-type {\n",
       "        vertical-align: middle;\n",
       "    }\n",
       "\n",
       "    .dataframe tbody tr th {\n",
       "        vertical-align: top;\n",
       "    }\n",
       "\n",
       "    .dataframe thead th {\n",
       "        text-align: right;\n",
       "    }\n",
       "</style>\n",
       "<table border=\"1\" class=\"dataframe\">\n",
       "  <thead>\n",
       "    <tr style=\"text-align: right;\">\n",
       "      <th></th>\n",
       "      <th>name</th>\n",
       "      <th>pid</th>\n",
       "      <th>danceability</th>\n",
       "      <th>energy</th>\n",
       "      <th>key</th>\n",
       "      <th>loudness</th>\n",
       "      <th>mode</th>\n",
       "      <th>speechiness</th>\n",
       "      <th>acousticness</th>\n",
       "      <th>instrumentalness</th>\n",
       "      <th>liveness</th>\n",
       "      <th>valence</th>\n",
       "      <th>tempo</th>\n",
       "      <th>duration_ms</th>\n",
       "      <th>time_signature</th>\n",
       "    </tr>\n",
       "  </thead>\n",
       "  <tbody>\n",
       "    <tr>\n",
       "      <th>0</th>\n",
       "      <td>Throwbacks</td>\n",
       "      <td>0</td>\n",
       "      <td>0.664077</td>\n",
       "      <td>0.781077</td>\n",
       "      <td>5.03846</td>\n",
       "      <td>-4.89121</td>\n",
       "      <td>0.692308</td>\n",
       "      <td>0.103698</td>\n",
       "      <td>0.0836741</td>\n",
       "      <td>0.000674382</td>\n",
       "      <td>0.187087</td>\n",
       "      <td>0.64275</td>\n",
       "      <td>121.157</td>\n",
       "      <td>221777</td>\n",
       "      <td>4</td>\n",
       "    </tr>\n",
       "    <tr>\n",
       "      <th>1</th>\n",
       "      <td>Awesome Playlist</td>\n",
       "      <td>1</td>\n",
       "      <td>0.492382</td>\n",
       "      <td>0.695923</td>\n",
       "      <td>4.46154</td>\n",
       "      <td>-8.10797</td>\n",
       "      <td>0.538462</td>\n",
       "      <td>0.0910103</td>\n",
       "      <td>0.162227</td>\n",
       "      <td>0.223708</td>\n",
       "      <td>0.179344</td>\n",
       "      <td>0.476667</td>\n",
       "      <td>124.987</td>\n",
       "      <td>298838</td>\n",
       "      <td>3.76923</td>\n",
       "    </tr>\n",
       "    <tr>\n",
       "      <th>2</th>\n",
       "      <td>korean</td>\n",
       "      <td>2</td>\n",
       "      <td>0.671062</td>\n",
       "      <td>0.692953</td>\n",
       "      <td>5</td>\n",
       "      <td>-4.87559</td>\n",
       "      <td>0.515625</td>\n",
       "      <td>0.096425</td>\n",
       "      <td>0.2691</td>\n",
       "      <td>0.000637812</td>\n",
       "      <td>0.168894</td>\n",
       "      <td>0.565078</td>\n",
       "      <td>114.596</td>\n",
       "      <td>219374</td>\n",
       "      <td>4</td>\n",
       "    </tr>\n",
       "    <tr>\n",
       "      <th>3</th>\n",
       "      <td>mat</td>\n",
       "      <td>3</td>\n",
       "      <td>0.514349</td>\n",
       "      <td>0.620901</td>\n",
       "      <td>5.10317</td>\n",
       "      <td>-9.61875</td>\n",
       "      <td>0.714286</td>\n",
       "      <td>0.067004</td>\n",
       "      <td>0.273514</td>\n",
       "      <td>0.203148</td>\n",
       "      <td>0.188278</td>\n",
       "      <td>0.451258</td>\n",
       "      <td>125.523</td>\n",
       "      <td>229575</td>\n",
       "      <td>3.95238</td>\n",
       "    </tr>\n",
       "    <tr>\n",
       "      <th>4</th>\n",
       "      <td>90s</td>\n",
       "      <td>4</td>\n",
       "      <td>0.576235</td>\n",
       "      <td>0.650418</td>\n",
       "      <td>3.35294</td>\n",
       "      <td>-7.63453</td>\n",
       "      <td>0.823529</td>\n",
       "      <td>0.0412176</td>\n",
       "      <td>0.177189</td>\n",
       "      <td>0.0817588</td>\n",
       "      <td>0.166524</td>\n",
       "      <td>0.490294</td>\n",
       "      <td>127.725</td>\n",
       "      <td>255014</td>\n",
       "      <td>3.94118</td>\n",
       "    </tr>\n",
       "    <tr>\n",
       "      <th>...</th>\n",
       "      <td>...</td>\n",
       "      <td>...</td>\n",
       "      <td>...</td>\n",
       "      <td>...</td>\n",
       "      <td>...</td>\n",
       "      <td>...</td>\n",
       "      <td>...</td>\n",
       "      <td>...</td>\n",
       "      <td>...</td>\n",
       "      <td>...</td>\n",
       "      <td>...</td>\n",
       "      <td>...</td>\n",
       "      <td>...</td>\n",
       "      <td>...</td>\n",
       "      <td>...</td>\n",
       "    </tr>\n",
       "    <tr>\n",
       "      <th>0</th>\n",
       "      <td>gang gang</td>\n",
       "      <td>115995</td>\n",
       "      <td>0.804615</td>\n",
       "      <td>0.529026</td>\n",
       "      <td>4.20513</td>\n",
       "      <td>-8.16418</td>\n",
       "      <td>0.589744</td>\n",
       "      <td>0.219638</td>\n",
       "      <td>0.217947</td>\n",
       "      <td>0.00862146</td>\n",
       "      <td>0.166574</td>\n",
       "      <td>0.363818</td>\n",
       "      <td>129.452</td>\n",
       "      <td>230348</td>\n",
       "      <td>4</td>\n",
       "    </tr>\n",
       "    <tr>\n",
       "      <th>0</th>\n",
       "      <td>Chaos</td>\n",
       "      <td>115996</td>\n",
       "      <td>0.6889</td>\n",
       "      <td>0.6955</td>\n",
       "      <td>5.7</td>\n",
       "      <td>-8.23265</td>\n",
       "      <td>0.4</td>\n",
       "      <td>0.104215</td>\n",
       "      <td>0.243258</td>\n",
       "      <td>0.225892</td>\n",
       "      <td>0.15177</td>\n",
       "      <td>0.7178</td>\n",
       "      <td>135.314</td>\n",
       "      <td>283091</td>\n",
       "      <td>4.05</td>\n",
       "    </tr>\n",
       "    <tr>\n",
       "      <th>0</th>\n",
       "      <td>Spring 2014</td>\n",
       "      <td>115997</td>\n",
       "      <td>0.646571</td>\n",
       "      <td>0.603214</td>\n",
       "      <td>5.35714</td>\n",
       "      <td>-6.89093</td>\n",
       "      <td>0.714286</td>\n",
       "      <td>0.0787429</td>\n",
       "      <td>0.227477</td>\n",
       "      <td>0.0243475</td>\n",
       "      <td>0.146629</td>\n",
       "      <td>0.442571</td>\n",
       "      <td>125.139</td>\n",
       "      <td>268989</td>\n",
       "      <td>4</td>\n",
       "    </tr>\n",
       "    <tr>\n",
       "      <th>0</th>\n",
       "      <td>autumn</td>\n",
       "      <td>115998</td>\n",
       "      <td>0.549943</td>\n",
       "      <td>0.562457</td>\n",
       "      <td>5.11429</td>\n",
       "      <td>-8.66606</td>\n",
       "      <td>0.657143</td>\n",
       "      <td>0.06552</td>\n",
       "      <td>0.273361</td>\n",
       "      <td>0.0180656</td>\n",
       "      <td>0.16158</td>\n",
       "      <td>0.390406</td>\n",
       "      <td>114.145</td>\n",
       "      <td>237815</td>\n",
       "      <td>3.97143</td>\n",
       "    </tr>\n",
       "    <tr>\n",
       "      <th>0</th>\n",
       "      <td>ChIlL</td>\n",
       "      <td>115999</td>\n",
       "      <td>0.680809</td>\n",
       "      <td>0.576838</td>\n",
       "      <td>5.13971</td>\n",
       "      <td>-6.65765</td>\n",
       "      <td>0.625</td>\n",
       "      <td>0.121825</td>\n",
       "      <td>0.25882</td>\n",
       "      <td>0.00293623</td>\n",
       "      <td>0.146857</td>\n",
       "      <td>0.456876</td>\n",
       "      <td>116.816</td>\n",
       "      <td>228286</td>\n",
       "      <td>3.96324</td>\n",
       "    </tr>\n",
       "  </tbody>\n",
       "</table>\n",
       "<p>20000 rows × 15 columns</p>\n",
       "</div>"
      ],
      "text/plain": [
       "                name     pid danceability    energy      key loudness  \\\n",
       "0         Throwbacks       0     0.664077  0.781077  5.03846 -4.89121   \n",
       "1   Awesome Playlist       1     0.492382  0.695923  4.46154 -8.10797   \n",
       "2            korean        2     0.671062  0.692953        5 -4.87559   \n",
       "3                mat       3     0.514349  0.620901  5.10317 -9.61875   \n",
       "4                90s       4     0.576235  0.650418  3.35294 -7.63453   \n",
       "..               ...     ...          ...       ...      ...      ...   \n",
       "0          gang gang  115995     0.804615  0.529026  4.20513 -8.16418   \n",
       "0              Chaos  115996       0.6889    0.6955      5.7 -8.23265   \n",
       "0        Spring 2014  115997     0.646571  0.603214  5.35714 -6.89093   \n",
       "0             autumn  115998     0.549943  0.562457  5.11429 -8.66606   \n",
       "0              ChIlL  115999     0.680809  0.576838  5.13971 -6.65765   \n",
       "\n",
       "        mode speechiness acousticness instrumentalness  liveness   valence  \\\n",
       "0   0.692308    0.103698    0.0836741      0.000674382  0.187087   0.64275   \n",
       "1   0.538462   0.0910103     0.162227         0.223708  0.179344  0.476667   \n",
       "2   0.515625    0.096425       0.2691      0.000637812  0.168894  0.565078   \n",
       "3   0.714286    0.067004     0.273514         0.203148  0.188278  0.451258   \n",
       "4   0.823529   0.0412176     0.177189        0.0817588  0.166524  0.490294   \n",
       "..       ...         ...          ...              ...       ...       ...   \n",
       "0   0.589744    0.219638     0.217947       0.00862146  0.166574  0.363818   \n",
       "0        0.4    0.104215     0.243258         0.225892   0.15177    0.7178   \n",
       "0   0.714286   0.0787429     0.227477        0.0243475  0.146629  0.442571   \n",
       "0   0.657143     0.06552     0.273361        0.0180656   0.16158  0.390406   \n",
       "0      0.625    0.121825      0.25882       0.00293623  0.146857  0.456876   \n",
       "\n",
       "      tempo duration_ms time_signature  \n",
       "0   121.157      221777              4  \n",
       "1   124.987      298838        3.76923  \n",
       "2   114.596      219374              4  \n",
       "3   125.523      229575        3.95238  \n",
       "4   127.725      255014        3.94118  \n",
       "..      ...         ...            ...  \n",
       "0   129.452      230348              4  \n",
       "0   135.314      283091           4.05  \n",
       "0   125.139      268989              4  \n",
       "0   114.145      237815        3.97143  \n",
       "0   116.816      228286        3.96324  \n",
       "\n",
       "[20000 rows x 15 columns]"
      ]
     },
     "execution_count": 35,
     "metadata": {},
     "output_type": "execute_result"
    }
   ],
   "source": [
    "df1 = pd.concat(dfs, axis=0)\n",
    "df_list.append(df1)\n",
    "feats_df = pd.concat(df_list, axis=0)\n",
    "feats_df.to_csv('data/Playlist_Feats.csv', index=False)\n",
    "idx = len(feats_df)\n",
    "feats_df"
   ]
  },
  {
   "cell_type": "code",
   "execution_count": null,
   "metadata": {},
   "outputs": [],
   "source": []
  }
 ],
 "metadata": {
  "kernelspec": {
   "display_name": "Python 3",
   "language": "python",
   "name": "python3"
  },
  "language_info": {
   "codemirror_mode": {
    "name": "ipython",
    "version": 3
   },
   "file_extension": ".py",
   "mimetype": "text/x-python",
   "name": "python",
   "nbconvert_exporter": "python",
   "pygments_lexer": "ipython3",
   "version": "3.9.0"
  }
 },
 "nbformat": 4,
 "nbformat_minor": 2
}
