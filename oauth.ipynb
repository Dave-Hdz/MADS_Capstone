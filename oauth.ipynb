{
 "cells": [
  {
   "cell_type": "code",
   "execution_count": 1,
   "metadata": {},
   "outputs": [],
   "source": [
    "import re\n",
    "import os\n",
    "import json\n",
    "import pickle\n",
    "import config\n",
    "import spotipy\n",
    "import numpy as np\n",
    "import pandas as pd\n",
    "from spotipy.oauth2 import SpotifyOAuth\n",
    "from scipy.spatial.distance import cdist\n"
   ]
  },
  {
   "cell_type": "code",
   "execution_count": 2,
   "metadata": {},
   "outputs": [],
   "source": [
    "# Credentials\n",
    "os.environ[\"SPOTIPY_CLIENT_ID\"] = config.SPOTIPY_CLIENT_ID\n",
    "os.environ[\"SPOTIPY_CLIENT_SECRET\"] = config.SPOTIPY_CLIENT_SECRET\n",
    "os.environ['SPOTIPY_REDIRECT_URI'] = config.SPOTIPY_REDIRECT_URI  # Needed for user authorization\n",
    "\n",
    "# Defining scope to read user playlist and write playlist to user\n",
    "scope = 'user-library-read user-follow-read playlist-modify-private playlist-modify'\n",
    "sp = spotipy.Spotify(auth_manager=SpotifyOAuth(scope=scope))"
   ]
  },
  {
   "cell_type": "code",
   "execution_count": 3,
   "metadata": {},
   "outputs": [],
   "source": [
    "feat_cols_user = ['danceability', 'energy', 'key', 'loudness', 'mode', 'speechiness', 'acousticness', 'instrumentalness',\n",
    "            'liveness', 'valence', 'tempo', 'duration_ms', 'time_signature']\n",
    "\n",
    "# Pickled models\n",
    "model_path = 'models/KMeans_K17_20000_sample_model.sav'\n",
    "tsne_path = 'models/openTSNETransformer.sav'\n",
    "scaler_path = 'models/StdScaler.sav'\n",
    "\n",
    "# Load models\n",
    "model = pickle.load(open(model_path, 'rb'))\n",
    "tsne_transformer = pickle.load(open(tsne_path, 'rb'))\n",
    "scaler = pickle.load(open(scaler_path, 'rb'))\n",
    "\n",
    "with open(\"data/playlists.json\", \"r\") as read_file:\n",
    "    playlists = json.load(read_file)\n",
    "\n",
    "scaled_data = np.loadtxt('data/scaled_data.csv', delimiter=',')\n",
    "feats_df = pd.DataFrame(scaled_data)\n",
    "\n"
   ]
  },
  {
   "cell_type": "code",
   "execution_count": 4,
   "metadata": {},
   "outputs": [],
   "source": [
    "def get_current_user_fav_tracks():\n",
    "    # # Get all favorite songs from current user and save them to lists to construct dataframe\n",
    "    tracks = sp.current_user_saved_tracks()\n",
    "\n",
    "    song = []\n",
    "    artist = []\n",
    "    uri = []\n",
    "\n",
    "    #First pass of the saved tracks\n",
    "    for i in tracks['items']:\n",
    "        song.append(i['track']['name'])\n",
    "        artist.append(i['track']['artists'][0]['name'])\n",
    "        uri_id = i['track']['uri']\n",
    "        uri.append(re.search('(^spotify:track:([^\\s]+))', uri_id).groups()[1])\n",
    "\n",
    "    # Keep looking in tracks for the rest of the saved tracks, they are paginated\n",
    "    while tracks['next']:\n",
    "        tracks = sp.next(tracks)\n",
    "        for i in tracks['items']:\n",
    "            song.append(i['track']['name'])\n",
    "            artist.append(i['track']['artists'][0]['name'])\n",
    "            uri_id = i['track']['uri']\n",
    "            uri.append(re.search('(^spotify:track:([^\\s]+))', uri_id).groups()[1])\n",
    "\n",
    "    # Create a dataframe from info extracted above, song, artist and uri\n",
    "    fav_songs_df = pd.DataFrame(\n",
    "        {'song': song,\n",
    "         'artist': artist,\n",
    "         'uri': uri\n",
    "        })\n",
    "    return fav_songs_df\n",
    "fav_songs_df = get_current_user_fav_tracks()\n"
   ]
  },
  {
   "cell_type": "code",
   "execution_count": 5,
   "metadata": {},
   "outputs": [],
   "source": [
    "def get_current_user_audio_features(fav_songs_df):\n",
    "    # Extract audio features from each song and create a dataframe\n",
    "    appended_df = []\n",
    "    for i in fav_songs_df['uri']:\n",
    "        appended_df.append(pd.DataFrame(sp.audio_features(i)[0], index=[i,]))\n",
    "    uri_df = pd.concat(appended_df)\n",
    "    uri_df = uri_df.drop(['uri'], axis=1)\n",
    "    uri_df = uri_df.reset_index()\n",
    "    uri_df = uri_df.rename(columns={\"index\": \"uri\"})\n",
    "\n",
    "    fav_songs_feats_df = pd.merge(fav_songs_df, uri_df, on=\"uri\")\n",
    "    return fav_songs_feats_df\n",
    "fav_songs_feats_df = get_current_user_audio_features(fav_songs_df)"
   ]
  },
  {
   "cell_type": "code",
   "execution_count": 11,
   "metadata": {},
   "outputs": [],
   "source": [
    "y = fav_songs_feats_df[feat_cols_user].mean()"
   ]
  },
  {
   "cell_type": "code",
   "execution_count": 6,
   "metadata": {},
   "outputs": [],
   "source": [
    "def get_user_scaled_y_vector(fav_songs_feats_df):\n",
    "    y = fav_songs_feats_df[feat_cols_user].mean()\n",
    "    scaled_y = scaler.transform(np.array(y).reshape(1,-1))\n",
    "    return scaled_y\n",
    "\n",
    "scaled_y = get_user_scaled_y_vector(fav_songs_feats_df)"
   ]
  },
  {
   "cell_type": "code",
   "execution_count": 7,
   "metadata": {},
   "outputs": [],
   "source": [
    "def get_top_n_playlists(model, feats_df, playlists, y, n, metric, similar, printing):\n",
    "    \"\"\"\n",
    "    This function will compute the most similar or disimilar playlists given a target vector y which represents the mean\n",
    "    features of the user's favorite songs. Similarity is calculated based on metrics such as Cosine, Manhattan, Euclidean, etc.\n",
    "    Parameters:\n",
    "        - model: Trained clustering model.\n",
    "        - feats_df (dataframe): Dataframe with scaled data for all the training data\n",
    "        - playlists (dictionary): Dictionary with all the playlists from the .json files\n",
    "        - y (np.array): user's favorite songs scaled vector\n",
    "        - n (int): top n playlists to retrieve\n",
    "        - metric (str): metric to use, recommended 'cityblock', 'euclidean', 'cosine'.\n",
    "        - similar (bool): whether to calculate most similar or most disimilar \n",
    "        - printing (bool): whether to print the results or not\n",
    "    Output:\n",
    "        - indices (np.array): indices of the top n playlists based on the feats_df dataframe\n",
    "    \n",
    "    \"\"\"\n",
    "    feats_df['cluster'] = pd.Categorical(model.labels_)\n",
    "    user_cluster = model.predict(y)\n",
    "    \n",
    "    df_slice = feats_df[feats_df['cluster']==user_cluster[0]]\n",
    "    df_slice = df_slice.drop(['cluster'], axis=1)\n",
    "    indices = feats_df[feats_df['cluster']==user_cluster[0]].reset_index()['index'].to_numpy()\n",
    "    \n",
    "    scaled_data = df_slice.to_numpy()\n",
    "    if similar:\n",
    "        simi = cdist(scaled_data, y, metric=metric).argsort(axis=None)[:n]\n",
    "    else:\n",
    "        simi = cdist(scaled_data, y, metric=metric).argsort(axis=None)[-n:]\n",
    "    simi = indices[simi]\n",
    "     \n",
    "    if printing:\n",
    "        for idx in simi:\n",
    "            print('Playlist: {}\\tpid:{}'.format(playlists[idx]['name'], playlists[idx]['pid']))\n",
    "            for song in playlists[idx]['tracks'][0:3]:\n",
    "                print('Artist: {}\\t Song:{}'.format(song['artist_name'], song['track_name']))\n",
    "            print('\\n')\n",
    "    \n",
    "    return simi\n",
    "similar_playlists_indices = get_top_n_playlists(model, feats_df, playlists, scaled_y, 3, 'cityblock', False, False)"
   ]
  },
  {
   "cell_type": "code",
   "execution_count": 14,
   "metadata": {},
   "outputs": [],
   "source": [
    "def get_songs_recommendations(similar_playlists_indices, n, printing):\n",
    "    \"\"\"\n",
    "    This function computes the variance, of each song in the given playlists, to the user's favorite songs (y_scaled)\n",
    "    Parameters:\n",
    "        - similar_playlists_indices (np.array)\n",
    "    \"\"\"\n",
    "    playlist_audio_features = []\n",
    "    for playlist in similar_playlists_indices:\n",
    "        for song in playlists[playlist]['tracks']:\n",
    "            playlist_audio_features.append(sp.audio_features(song['track_uri'].split(\"k:\")[1])[0])\n",
    "\n",
    "    playlist_audio_features_df = pd.DataFrame(playlist_audio_features)\n",
    "    array_audio_feats = playlist_audio_features_df[feat_cols_user].to_numpy()\n",
    "    \n",
    "    y_vector = np.array(y).reshape(1,-1)\n",
    "    low_variance_indices = np.sum(np.square((y_vector-array_audio_feats)),axis=1).argsort(axis=None)\n",
    "    song_uris = playlist_audio_features_df.loc[low_variance_indices]['id']\n",
    "    song_uris.drop_duplicates(inplace=True)\n",
    "\n",
    "    if printing:\n",
    "        for uri in song_uris[:10]:\n",
    "            print('Song: {}'.format(sp.track(uri)['name']))\n",
    "            print('Artist: {}\\n'.format(sp.track(uri)['artists'][0]['name']))\n",
    "\n",
    "    return song_uris[:n]"
   ]
  },
  {
   "cell_type": "code",
   "execution_count": 16,
   "metadata": {},
   "outputs": [],
   "source": [
    "def build_spotify_playlist(playlist_name, description, items):\n",
    "    items = items.to_list()\n",
    "    user_id = sp.current_user()['id']\n",
    "    new_playlist = sp.user_playlist_create(user_id, playlist_name, description=description)\n",
    "    sp.playlist_add_items(new_playlist['id'],items=items)\n"
   ]
  },
  {
   "cell_type": "code",
   "execution_count": 17,
   "metadata": {},
   "outputs": [
    {
     "name": "stdout",
     "output_type": "stream",
     "text": [
      "Song: We Can't Stop\n",
      "Artist: Miley Cyrus\n",
      "\n",
      "Song: Burn\n",
      "Artist: Ellie Goulding\n",
      "\n",
      "Song: New Slang\n",
      "Artist: The Shins\n",
      "\n",
      "Song: Payphone\n",
      "Artist: Maroon 5\n",
      "\n",
      "Song: Save Me\n",
      "Artist: Gotye\n",
      "\n",
      "Song: Low (feat. T-Pain)\n",
      "Artist: Flo Rida\n",
      "\n",
      "Song: Animals\n",
      "Artist: Maroon 5\n",
      "\n",
      "Song: The Kill (Bury Me)\n",
      "Artist: Thirty Seconds To Mars\n",
      "\n",
      "Song: Summer\n",
      "Artist: Paris Jones\n",
      "\n",
      "Song: No Way No\n",
      "Artist: MAGIC!\n",
      "\n"
     ]
    }
   ],
   "source": [
    "playlist_name = 'KMeans Euclidean Similar 10 playlists'\n",
    "description = 'Machine Learning playlist'\n",
    "similar_playlists_indices = get_top_n_playlists(model, feats_df, playlists, scaled_y, 10, 'euclidean', similar=True, printing=False)\n",
    "song_uris = get_songs_recommendations(similar_playlists_indices,n=30, printing=True)"
   ]
  }
 ],
 "metadata": {
  "interpreter": {
   "hash": "aee8b7b246df8f9039afb4144a1f6fd8d2ca17a180786b69acc140d282b71a49"
  },
  "kernelspec": {
   "display_name": "Python 3.9.0 64-bit",
   "language": "python",
   "name": "python3"
  },
  "language_info": {
   "codemirror_mode": {
    "name": "ipython",
    "version": 3
   },
   "file_extension": ".py",
   "mimetype": "text/x-python",
   "name": "python",
   "nbconvert_exporter": "python",
   "pygments_lexer": "ipython3",
   "version": "3.9.0"
  },
  "orig_nbformat": 4
 },
 "nbformat": 4,
 "nbformat_minor": 2
}
